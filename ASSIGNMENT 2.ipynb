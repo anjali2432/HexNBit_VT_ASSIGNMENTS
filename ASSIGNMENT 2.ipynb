{
 "cells": [
  {
   "cell_type": "markdown",
   "metadata": {},
   "source": [
    "<a href='https://www.hexnbit.com/'> <img src='https://www.hexnbit.com/wp-content/uploads/2019/09/hexnbit_final_66px.png'/> </a>"
   ]
  },
  {
   "cell_type": "markdown",
   "metadata": {},
   "source": [
    "# Assignment"
   ]
  },
  {
   "cell_type": "markdown",
   "metadata": {},
   "source": [
    "Mentioned below are the tasks, the solution for each tasks has to be appended by inserting a new cell below the task,\n",
    "along with the following description:-\n",
    "1. Why the method was used (if applicable)\n",
    "2. Explanation of logic"
   ]
  },
  {
   "cell_type": "markdown",
   "metadata": {},
   "source": [
    "### Task1\n",
    "\n",
    "- Convert all characters of the word \"PYTHON\" to its decimal equivalent and then store them.\n",
    "- Convert all the decimal equvalents back to characters \n",
    "\n",
    "**Hint:** Built in functions to do so are there to perform this task\n",
    "Refer https://docs.python.org/3/library/functions.html"
   ]
  },
  {
   "cell_type": "code",
   "execution_count": 1,
   "metadata": {},
   "outputs": [
    {
     "name": "stdout",
     "output_type": "stream",
     "text": [
      "[80, 89, 84, 72, 79, 78]\n",
      "['P', 'Y', 'T', 'H', 'O', 'N']\n"
     ]
    }
   ],
   "source": [
    "#Task 1 \n",
    "a = \"PYTHON\"\n",
    "d_eq = []\n",
    "ch = []\n",
    "for i in a :\n",
    "    num=ord(i)      # logic to convert all char to decimal\n",
    "    d_eq.append(num)\n",
    "print(d_eq)\n",
    "for i in d_eq :\n",
    "    char=chr(i)     # logic to convert back decimal to char\n",
    "    ch.append(char)\n",
    "print(ch)"
   ]
  },
  {
   "cell_type": "markdown",
   "metadata": {},
   "source": [
    "### Task2\n",
    "- Raise 2 to the power 10"
   ]
  },
  {
   "cell_type": "code",
   "execution_count": 2,
   "metadata": {},
   "outputs": [
    {
     "name": "stdout",
     "output_type": "stream",
     "text": [
      "1024\n"
     ]
    }
   ],
   "source": [
    "# Task 2 \n",
    "a = 2**10   # logic for power of 2\n",
    "print(a)"
   ]
  },
  {
   "cell_type": "markdown",
   "metadata": {},
   "source": [
    "### Task3\n",
    "\n",
    "- From the given list, starting from Japan, print alternate elements\n",
    "- From the given list, print element at indexes 1,4,5,8 (**Hint**: Use for loop or list comprehension)"
   ]
  },
  {
   "cell_type": "code",
   "execution_count": 4,
   "metadata": {},
   "outputs": [],
   "source": [
    "# Task 3\n",
    "list1=[\"India\", \"Japan\",\"Singapore\",\"China\",\"Australia\",\"Africa\",\"Dubai\",\"France\",\"Italy\",\"Germany\"]"
   ]
  },
  {
   "cell_type": "code",
   "execution_count": 5,
   "metadata": {},
   "outputs": [
    {
     "name": "stdout",
     "output_type": "stream",
     "text": [
      "Japan\n",
      "China\n",
      "Africa\n",
      "France\n",
      "Germany\n"
     ]
    }
   ],
   "source": [
    "for i in range(1, len(list1), 2):   # printing alternate elements starting from Japan\n",
    "    print(list1[i])"
   ]
  },
  {
   "cell_type": "code",
   "execution_count": 6,
   "metadata": {},
   "outputs": [
    {
     "name": "stdout",
     "output_type": "stream",
     "text": [
      "Japan\n",
      "Australia\n",
      "Africa\n",
      "Italy\n"
     ]
    }
   ],
   "source": [
    "indexes = [1, 4, 5, 8]\n",
    "for index in indexes:         # printing elements at indexes 1,4,5,8\n",
    "    print(list1[index])"
   ]
  },
  {
   "cell_type": "markdown",
   "metadata": {},
   "source": [
    "### Task4\n",
    "\n",
    "- From the given list, extract the \"Hex\" and print it"
   ]
  },
  {
   "cell_type": "code",
   "execution_count": 7,
   "metadata": {},
   "outputs": [],
   "source": [
    "# Task 4\n",
    "list2=[22,[4, [True, False], 6, 8], [888, 999,[111,222,[\"Hex\"]]] ]"
   ]
  },
  {
   "cell_type": "code",
   "execution_count": 8,
   "metadata": {},
   "outputs": [
    {
     "name": "stdout",
     "output_type": "stream",
     "text": [
      "Hex\n"
     ]
    }
   ],
   "source": [
    "hex_element = list2[2][2][2][0]        # printing \"Hex\"\n",
    "print(hex_element)"
   ]
  },
  {
   "cell_type": "markdown",
   "metadata": {},
   "source": [
    "### Task5\n",
    "\n",
    "- From the given dictionary, fetch the keyword \"TOPD\""
   ]
  },
  {
   "cell_type": "code",
   "execution_count": 9,
   "metadata": {},
   "outputs": [],
   "source": [
    "# Task 5\n",
    "dict1={\"Tevatron\":[\"Technologies\",\"Pvt\",\"Ltd\",{\"Domains\":[\"Embedded\",\"IoT\",\"AI\",\"ML\"],\"Projects\":[\"inhouse\",\"TOPD\"]}]}"
   ]
  },
  {
   "cell_type": "code",
   "execution_count": 10,
   "metadata": {},
   "outputs": [
    {
     "name": "stdout",
     "output_type": "stream",
     "text": [
      "TOPD\n"
     ]
    }
   ],
   "source": [
    "topd_keyword = dict1[\"Tevatron\"][3][\"Projects\"][1]           # printing the keyword \"TOPD\"\n",
    "print(topd_keyword)"
   ]
  },
  {
   "cell_type": "markdown",
   "metadata": {},
   "source": [
    "### Task6\n",
    "There are 3 height categories\n",
    "\n",
    "**167 and below  =**    Short <br>\n",
    "**168 to 182     =**    Average <br>\n",
    "**182 and above  =**    Tall<br>\n",
    "\n",
    "Write a programe which gets the input from user and prints if the category the person fits in\n",
    "\n",
    "**Hint**: Use function input()"
   ]
  },
  {
   "cell_type": "code",
   "execution_count": 12,
   "metadata": {},
   "outputs": [
    {
     "name": "stdout",
     "output_type": "stream",
     "text": [
      "182\n",
      "Tall\n"
     ]
    }
   ],
   "source": [
    "# Task 6\n",
    "height = int(input()) \n",
    "def height_category(height):     # logic for checking height categories\n",
    "    if height <= 167:\n",
    "        return \"Short\"\n",
    "    elif 168 <= height < 182:\n",
    "        return \"Average\"\n",
    "    else:\n",
    "        return \"Tall\"\n",
    "category = height_category(height)\n",
    "print(category)"
   ]
  },
  {
   "cell_type": "markdown",
   "metadata": {},
   "source": [
    "### Task7\n",
    "\n",
    "Using maximum 2 lines of code, generate all upper case alphabets\n",
    "\n",
    "**Hint**: Refer ASCII Table"
   ]
  },
  {
   "cell_type": "code",
   "execution_count": 13,
   "metadata": {},
   "outputs": [
    {
     "name": "stdout",
     "output_type": "stream",
     "text": [
      "A B C D E F G H I J K L M N O P Q R S T U V W X Y Z\n"
     ]
    }
   ],
   "source": [
    "# Task 7\n",
    "uppercase_alphabets = [chr(i) for i in range(65, 91)]   # generating uppercase alphabets\n",
    "print(' '.join(uppercase_alphabets))"
   ]
  },
  {
   "cell_type": "markdown",
   "metadata": {},
   "source": [
    "### Task8\n",
    "\n",
    "Generate integers between (100 and 200) both inclusive, using NumPy"
   ]
  },
  {
   "cell_type": "code",
   "execution_count": null,
   "metadata": {},
   "outputs": [],
   "source": [
    "# Task 8\n",
    "import numpy as np\n",
    "\n",
    "integers_array = np.arange(100, 201)    # generating integers between 100 and 200\n",
    "print(integers_array)\n"
   ]
  },
  {
   "cell_type": "markdown",
   "metadata": {},
   "source": [
    "### Task9\n",
    "\n",
    "Print all even integers from the array created in Task8"
   ]
  },
  {
   "cell_type": "code",
   "execution_count": null,
   "metadata": {},
   "outputs": [],
   "source": [
    "# Task 9\n",
    "even_integers = integers_array[integers_array % 2 == 0]   # logic for printing all even integers\n",
    "print(even_integers)"
   ]
  },
  {
   "cell_type": "markdown",
   "metadata": {},
   "source": [
    "### Task10\n",
    "\n",
    "Print all 100 values from Standard Normal Distribution"
   ]
  },
  {
   "cell_type": "code",
   "execution_count": null,
   "metadata": {},
   "outputs": [],
   "source": [
    "# Task 10\n",
    "import numpy as np\n",
    "\n",
    "standard_normal_values = np.random.randn(100)     # printing 100 values from standard normal distribution\n",
    "print(standard_normal_values)\n"
   ]
  },
  {
   "cell_type": "markdown",
   "metadata": {},
   "source": [
    "### Task11\n",
    "\n",
    "Create a NumPy array of random number, whose dimension attribute is equal to 4"
   ]
  },
  {
   "cell_type": "code",
   "execution_count": 14,
   "metadata": {},
   "outputs": [
    {
     "name": "stdout",
     "output_type": "stream",
     "text": [
      "[0.33802489 0.07184528 0.33749382 0.32124647]\n"
     ]
    }
   ],
   "source": [
    "# Task 11\n",
    "import numpy as np\n",
    "\n",
    "random_array = np.random.rand(4)    # numpy array of random number\n",
    "print(random_array)\n"
   ]
  },
  {
   "cell_type": "markdown",
   "metadata": {},
   "source": [
    "### Task12\n",
    "\n",
    "Create an NumPy array of 100 values evenly spaced between 10 and 20"
   ]
  },
  {
   "cell_type": "code",
   "execution_count": 15,
   "metadata": {},
   "outputs": [
    {
     "name": "stdout",
     "output_type": "stream",
     "text": [
      "[10.         10.1010101  10.2020202  10.3030303  10.4040404  10.50505051\n",
      " 10.60606061 10.70707071 10.80808081 10.90909091 11.01010101 11.11111111\n",
      " 11.21212121 11.31313131 11.41414141 11.51515152 11.61616162 11.71717172\n",
      " 11.81818182 11.91919192 12.02020202 12.12121212 12.22222222 12.32323232\n",
      " 12.42424242 12.52525253 12.62626263 12.72727273 12.82828283 12.92929293\n",
      " 13.03030303 13.13131313 13.23232323 13.33333333 13.43434343 13.53535354\n",
      " 13.63636364 13.73737374 13.83838384 13.93939394 14.04040404 14.14141414\n",
      " 14.24242424 14.34343434 14.44444444 14.54545455 14.64646465 14.74747475\n",
      " 14.84848485 14.94949495 15.05050505 15.15151515 15.25252525 15.35353535\n",
      " 15.45454545 15.55555556 15.65656566 15.75757576 15.85858586 15.95959596\n",
      " 16.06060606 16.16161616 16.26262626 16.36363636 16.46464646 16.56565657\n",
      " 16.66666667 16.76767677 16.86868687 16.96969697 17.07070707 17.17171717\n",
      " 17.27272727 17.37373737 17.47474747 17.57575758 17.67676768 17.77777778\n",
      " 17.87878788 17.97979798 18.08080808 18.18181818 18.28282828 18.38383838\n",
      " 18.48484848 18.58585859 18.68686869 18.78787879 18.88888889 18.98989899\n",
      " 19.09090909 19.19191919 19.29292929 19.39393939 19.49494949 19.5959596\n",
      " 19.6969697  19.7979798  19.8989899  20.        ]\n"
     ]
    }
   ],
   "source": [
    "# Task 12\n",
    "import numpy as np\n",
    "\n",
    "evenly_spaced_array = np.linspace(10, 20, 100)    # array of 100 values evenly spaced between 10 and 20\n",
    "print(evenly_spaced_array)\n"
   ]
  },
  {
   "cell_type": "markdown",
   "metadata": {},
   "source": [
    "### Task13\n",
    "\n",
    "Create a NumPy array of shape 5x5 and print the last 3 rows"
   ]
  },
  {
   "cell_type": "code",
   "execution_count": 20,
   "metadata": {},
   "outputs": [
    {
     "name": "stdout",
     "output_type": "stream",
     "text": [
      "[[0.20685573 0.91254645 0.57655418 0.45236246 0.17417681]\n",
      " [0.76110582 0.21978499 0.10697084 0.27984347 0.3333398 ]\n",
      " [0.61278982 0.03697133 0.10777095 0.77007915 0.40733115]]\n"
     ]
    }
   ],
   "source": [
    "# Task 13\n",
    "import numpy as np\n",
    "\n",
    "# Create a 5x5 NumPy array\n",
    "array_5x5 = np.random.random((5, 5))\n",
    "\n",
    "# Print the last 3 rows\n",
    "last_3_rows = array_5x5[2:]\n",
    "print(last_3_rows)\n"
   ]
  },
  {
   "cell_type": "markdown",
   "metadata": {},
   "source": [
    "### Task14\n",
    "\n",
    "Using the array created above in Task13, Print the first 2 columns"
   ]
  },
  {
   "cell_type": "code",
   "execution_count": 21,
   "metadata": {},
   "outputs": [
    {
     "name": "stdout",
     "output_type": "stream",
     "text": [
      "[[0.91849351 0.8458942 ]\n",
      " [0.38142791 0.98554776]\n",
      " [0.20685573 0.91254645]\n",
      " [0.76110582 0.21978499]\n",
      " [0.61278982 0.03697133]]\n"
     ]
    }
   ],
   "source": [
    "# Task 14\n",
    "# Print the first 2 columns\n",
    "first_2_columns = array_5x5[:, :2]\n",
    "print(first_2_columns)"
   ]
  },
  {
   "cell_type": "markdown",
   "metadata": {},
   "source": [
    "### Task15\n",
    "\n",
    "Create an array of 25 random values\n",
    "- Find the sum of all elements\n",
    "- Print the element with maximum value and minimum value"
   ]
  },
  {
   "cell_type": "code",
   "execution_count": 22,
   "metadata": {},
   "outputs": [
    {
     "name": "stdout",
     "output_type": "stream",
     "text": [
      "Sum of all elements: 10.622516967528641\n",
      "Maximum value: 0.95605921899439\n",
      "Minimum value: 0.027997269463401198\n"
     ]
    }
   ],
   "source": [
    "# Task 15\n",
    "import numpy as np\n",
    "\n",
    "# Create an array of 25 random values\n",
    "random_array = np.random.random(25)\n",
    "\n",
    "# Find the sum of all elements\n",
    "sum_of_elements = np.sum(random_array)\n",
    "print(\"Sum of all elements:\", sum_of_elements)\n",
    "\n",
    "# Find the element with maximum value\n",
    "max_element = np.max(random_array)\n",
    "print(\"Maximum value:\", max_element)\n",
    "\n",
    "# Find the element with minimum value\n",
    "min_element = np.min(random_array)\n",
    "print(\"Minimum value:\", min_element)\n"
   ]
  },
  {
   "cell_type": "markdown",
   "metadata": {},
   "source": [
    "### Task16\n",
    "\n",
    "In the array created above, print columns with indexes 1,3,4 without directly indexing them <br>\n",
    "**Hint:** Make use of another list for indexing"
   ]
  },
  {
   "cell_type": "code",
   "execution_count": 23,
   "metadata": {},
   "outputs": [
    {
     "name": "stdout",
     "output_type": "stream",
     "text": [
      "[[0.62220336 0.59837863 0.53882024]\n",
      " [0.02177686 0.79016735 0.38908352]\n",
      " [0.2665241  0.21909091 0.93552868]\n",
      " [0.21205399 0.66162957 0.42281947]\n",
      " [0.34436065 0.26084277 0.29949648]]\n"
     ]
    }
   ],
   "source": [
    "# Task 16\n",
    "\n",
    "# Create an array of 25 random values\n",
    "random_array = np.random.random((5, 5))\n",
    "\n",
    "# List of column indexes to print\n",
    "column_indexes = [1, 3, 4]\n",
    "\n",
    "# Print columns with specified indexes\n",
    "selected_columns = random_array[:, column_indexes]\n",
    "print(selected_columns)"
   ]
  },
  {
   "cell_type": "markdown",
   "metadata": {},
   "source": [
    "### Task17\n",
    "Read car_sales.csv"
   ]
  },
  {
   "cell_type": "code",
   "execution_count": 24,
   "metadata": {},
   "outputs": [],
   "source": [
    "# Task 17\n",
    "import pandas as pd\n",
    "\n",
    "# Load the CSV file into a DataFrame\n",
    "car_sales_df = pd.read_csv('car_sales.csv')"
   ]
  },
  {
   "cell_type": "markdown",
   "metadata": {},
   "source": [
    "### Task18\n",
    "Sort data frame in ascending order of the Price column"
   ]
  },
  {
   "cell_type": "code",
   "execution_count": 4,
   "metadata": {},
   "outputs": [
    {
     "name": "stdout",
     "output_type": "stream",
     "text": [
      "Task 18 - Sorted by Price:\n",
      "    Unnamed: 0   Manufacturer     Model     Type  Min.Price  Price  Max.Price  \\\n",
      "30          31           Ford   Festiva    Small        6.9    7.4        7.9   \n",
      "43          44        Hyundai     Excel    Small        6.8    8.0        9.2   \n",
      "52          53          Mazda       323    Small        7.4    8.3        9.1   \n",
      "38          39            Geo     Metro    Small        6.7    8.4       10.0   \n",
      "79          80         Subaru     Justy    Small        7.3    8.4        9.5   \n",
      "..         ...            ...       ...      ...        ...    ...        ...   \n",
      "3            4           Audi       100  Midsize       30.8   37.7       44.6   \n",
      "18          19      Chevrolet  Corvette   Sporty       34.6   38.0       41.5   \n",
      "10          11       Cadillac   Seville  Midsize       37.5   40.1       42.7   \n",
      "47          48       Infiniti       Q45  Midsize       45.4   47.9       50.4   \n",
      "58          59  Mercedes-Benz      300E  Midsize       43.8   61.9       80.0   \n",
      "\n",
      "    MPG.city  MPG.highway             AirBags  ... Passengers Length  \\\n",
      "30        31           33                None  ...          4    141   \n",
      "43        29           33                None  ...          5    168   \n",
      "52        29           37                None  ...          4    164   \n",
      "38        46           50                None  ...          4    151   \n",
      "79        33           37                None  ...          4    146   \n",
      "..       ...          ...                 ...  ...        ...    ...   \n",
      "3         19           26  Driver & Passenger  ...          6    193   \n",
      "18        17           25         Driver only  ...          2    179   \n",
      "10        16           25  Driver & Passenger  ...          5    204   \n",
      "47        17           22         Driver only  ...          5    200   \n",
      "58        19           25  Driver & Passenger  ...          5    187   \n",
      "\n",
      "    Wheelbase  Width  Turn.circle  Rear.seat.room Luggage.room  Weight  \\\n",
      "30         90     63           33            26.0         12.0    1845   \n",
      "43         94     63           35            26.0         11.0    2345   \n",
      "52         97     66           34            27.0         16.0    2325   \n",
      "38         93     63           34            27.5         10.0    1695   \n",
      "79         90     60           32            23.5         10.0    2045   \n",
      "..        ...    ...          ...             ...          ...     ...   \n",
      "3         106     70           37            31.0         17.0    3405   \n",
      "18         96     74           43             NaN          NaN    3380   \n",
      "10        111     74           44            31.0         14.0    3935   \n",
      "47        113     72           42            29.0         15.0    4000   \n",
      "58        110     69           37            27.0         15.0    3525   \n",
      "\n",
      "     Origin                Make  \n",
      "30      USA        Ford Festiva  \n",
      "43  non-USA       Hyundai Excel  \n",
      "52  non-USA           Mazda 323  \n",
      "38  non-USA           Geo Metro  \n",
      "79  non-USA        Subaru Justy  \n",
      "..      ...                 ...  \n",
      "3   non-USA            Audi 100  \n",
      "18      USA  Chevrolet Corvette  \n",
      "10      USA    Cadillac Seville  \n",
      "47  non-USA        Infiniti Q45  \n",
      "58  non-USA  Mercedes-Benz 300E  \n",
      "\n",
      "[93 rows x 28 columns]\n"
     ]
    }
   ],
   "source": [
    "# Task 18: Sort data frame in ascending order of the Price column\n",
    "sorted_by_price = car_sales_df.sort_values(by='Price', ascending=True)\n",
    "print(\"Task 18 - Sorted by Price:\")\n",
    "print(sorted_by_price)"
   ]
  },
  {
   "cell_type": "markdown",
   "metadata": {},
   "source": [
    "### Task19\n",
    "Print number of unique car manufacturers in the data"
   ]
  },
  {
   "cell_type": "code",
   "execution_count": 5,
   "metadata": {},
   "outputs": [
    {
     "name": "stdout",
     "output_type": "stream",
     "text": [
      "Task 19 - Number of unique car manufacturers: 32\n"
     ]
    }
   ],
   "source": [
    "# Task 19: Print number of unique car manufacturers in the data\n",
    "unique_manufacturers = car_sales_df['Manufacturer'].nunique()\n",
    "print(\"Task 19 - Number of unique car manufacturers:\", unique_manufacturers)"
   ]
  },
  {
   "cell_type": "markdown",
   "metadata": {},
   "source": [
    "### Task20\n",
    "Print the maximum Wheelbase from the data"
   ]
  },
  {
   "cell_type": "code",
   "execution_count": 6,
   "metadata": {},
   "outputs": [
    {
     "name": "stdout",
     "output_type": "stream",
     "text": [
      "Task 20 - Maximum Wheelbase: 119\n"
     ]
    }
   ],
   "source": [
    "# Task 20: Print the maximum Wheelbase from the data\n",
    "max_wheelbase = car_sales_df['Wheelbase'].max()\n",
    "print(\"Task 20 - Maximum Wheelbase:\", max_wheelbase)"
   ]
  },
  {
   "cell_type": "markdown",
   "metadata": {},
   "source": [
    "### Task21\n",
    "Print the car Model which has maximum Wheelbase"
   ]
  },
  {
   "cell_type": "code",
   "execution_count": 7,
   "metadata": {},
   "outputs": [
    {
     "name": "stdout",
     "output_type": "stream",
     "text": [
      "Task 21 - Car Model with maximum Wheelbase: Aerostar\n"
     ]
    }
   ],
   "source": [
    "# Task 21: Print the car Model which has maximum Wheelbase\n",
    "max_wheelbase_model = car_sales_df.loc[car_sales_df['Wheelbase'].idxmax(), 'Model']\n",
    "print(\"Task 21 - Car Model with maximum Wheelbase:\", max_wheelbase_model)"
   ]
  },
  {
   "cell_type": "markdown",
   "metadata": {},
   "source": [
    "### Task22\n",
    "\n",
    "Print the Details of car with maximum passenger capacity"
   ]
  },
  {
   "cell_type": "code",
   "execution_count": 10,
   "metadata": {},
   "outputs": [
    {
     "name": "stdout",
     "output_type": "stream",
     "text": [
      "Task 22 - Details of car with maximum passenger capacity:\n",
      "Unnamed: 0                         17\n",
      "Manufacturer                Chevrolet\n",
      "Model                           Astro\n",
      "Type                              Van\n",
      "Min.Price                        14.7\n",
      "Price                            16.6\n",
      "Max.Price                        18.6\n",
      "MPG.city                           15\n",
      "MPG.highway                        20\n",
      "AirBags                          None\n",
      "DriveTrain                        4WD\n",
      "Cylinders                           6\n",
      "EngineSize                        4.3\n",
      "Horsepower                        165\n",
      "RPM                              4000\n",
      "Rev.per.mile                     1790\n",
      "Man.trans.avail                    No\n",
      "Fuel.tank.capacity               27.0\n",
      "Passengers                          8\n",
      "Length                            194\n",
      "Wheelbase                         111\n",
      "Width                              78\n",
      "Turn.circle                        42\n",
      "Rear.seat.room                   33.5\n",
      "Luggage.room                      NaN\n",
      "Weight                           4025\n",
      "Origin                            USA\n",
      "Make                  Chevrolet Astro\n",
      "Name: 16, dtype: object\n"
     ]
    }
   ],
   "source": [
    "# Task 22: Print the Details of car with maximum passenger capacity\n",
    "max_passenger_capacity_car = car_sales_df.loc[car_sales_df['Passengers'].idxmax()]\n",
    "print(\"Task 22 - Details of car with maximum passenger capacity:\")\n",
    "print(max_passenger_capacity_car)"
   ]
  },
  {
   "cell_type": "code",
   "execution_count": null,
   "metadata": {},
   "outputs": [],
   "source": []
  }
 ],
 "metadata": {
  "kernelspec": {
   "display_name": "Python 3 (ipykernel)",
   "language": "python",
   "name": "python3"
  },
  "language_info": {
   "codemirror_mode": {
    "name": "ipython",
    "version": 3
   },
   "file_extension": ".py",
   "mimetype": "text/x-python",
   "name": "python",
   "nbconvert_exporter": "python",
   "pygments_lexer": "ipython3",
   "version": "3.10.9"
  }
 },
 "nbformat": 4,
 "nbformat_minor": 4
}
